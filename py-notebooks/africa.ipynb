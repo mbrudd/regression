{
 "cells": [
  {
   "cell_type": "code",
   "execution_count": 17,
   "id": "836a9de6",
   "metadata": {},
   "outputs": [],
   "source": [
    "import numpy as np\n",
    "import pandas as pd\n",
    "import matplotlib.pyplot as plt\n",
    "import seaborn as sns\n",
    "import statsmodels.formula.api as smf"
   ]
  },
  {
   "cell_type": "code",
   "execution_count": 18,
   "id": "1ac3462d",
   "metadata": {},
   "outputs": [],
   "source": [
    "import warnings\n",
    "warnings.filterwarnings('ignore')"
   ]
  },
  {
   "cell_type": "code",
   "execution_count": 19,
   "id": "ebe571b5",
   "metadata": {},
   "outputs": [],
   "source": [
    "sns.set_theme()\n",
    "plt.rcParams['figure.figsize'] = [8,8]"
   ]
  },
  {
   "cell_type": "code",
   "execution_count": 20,
   "id": "d0de666c",
   "metadata": {},
   "outputs": [],
   "source": [
    "africa = pd.read_csv(\"africa.csv\")\n",
    "n_countries = len( africa )"
   ]
  },
  {
   "cell_type": "code",
   "execution_count": 21,
   "id": "148664b2",
   "metadata": {},
   "outputs": [
    {
     "data": {
      "text/html": [
       "<div>\n",
       "<style scoped>\n",
       "    .dataframe tbody tr th:only-of-type {\n",
       "        vertical-align: middle;\n",
       "    }\n",
       "\n",
       "    .dataframe tbody tr th {\n",
       "        vertical-align: top;\n",
       "    }\n",
       "\n",
       "    .dataframe thead th {\n",
       "        text-align: right;\n",
       "    }\n",
       "</style>\n",
       "<table border=\"1\" class=\"dataframe\">\n",
       "  <thead>\n",
       "    <tr style=\"text-align: right;\">\n",
       "      <th></th>\n",
       "      <th>Country</th>\n",
       "      <th>IMR</th>\n",
       "      <th>Literacy</th>\n",
       "    </tr>\n",
       "  </thead>\n",
       "  <tbody>\n",
       "    <tr>\n",
       "      <th>0</th>\n",
       "      <td>Algeria</td>\n",
       "      <td>26</td>\n",
       "      <td>89</td>\n",
       "    </tr>\n",
       "    <tr>\n",
       "      <th>1</th>\n",
       "      <td>Angola</td>\n",
       "      <td>96</td>\n",
       "      <td>66</td>\n",
       "    </tr>\n",
       "    <tr>\n",
       "      <th>2</th>\n",
       "      <td>Benin</td>\n",
       "      <td>68</td>\n",
       "      <td>45</td>\n",
       "    </tr>\n",
       "    <tr>\n",
       "      <th>3</th>\n",
       "      <td>Botswana</td>\n",
       "      <td>20</td>\n",
       "      <td>97</td>\n",
       "    </tr>\n",
       "    <tr>\n",
       "      <th>4</th>\n",
       "      <td>Burkina Faso</td>\n",
       "      <td>82</td>\n",
       "      <td>33</td>\n",
       "    </tr>\n",
       "    <tr>\n",
       "      <th>5</th>\n",
       "      <td>Burundi</td>\n",
       "      <td>86</td>\n",
       "      <td>78</td>\n",
       "    </tr>\n",
       "    <tr>\n",
       "      <th>6</th>\n",
       "      <td>Cameroon</td>\n",
       "      <td>79</td>\n",
       "      <td>77</td>\n",
       "    </tr>\n",
       "    <tr>\n",
       "      <th>7</th>\n",
       "      <td>Cape Verde</td>\n",
       "      <td>18</td>\n",
       "      <td>99</td>\n",
       "    </tr>\n",
       "    <tr>\n",
       "      <th>8</th>\n",
       "      <td>Central African Republic</td>\n",
       "      <td>108</td>\n",
       "      <td>58</td>\n",
       "    </tr>\n",
       "    <tr>\n",
       "      <th>9</th>\n",
       "      <td>Chad</td>\n",
       "      <td>97</td>\n",
       "      <td>41</td>\n",
       "    </tr>\n",
       "    <tr>\n",
       "      <th>10</th>\n",
       "      <td>Comoros</td>\n",
       "      <td>59</td>\n",
       "      <td>85</td>\n",
       "    </tr>\n",
       "    <tr>\n",
       "      <th>11</th>\n",
       "      <td>Congo</td>\n",
       "      <td>64</td>\n",
       "      <td>78</td>\n",
       "    </tr>\n",
       "    <tr>\n",
       "      <th>12</th>\n",
       "      <td>Côte d'Ivoire</td>\n",
       "      <td>81</td>\n",
       "      <td>62</td>\n",
       "    </tr>\n",
       "    <tr>\n",
       "      <th>13</th>\n",
       "      <td>Egypt</td>\n",
       "      <td>18</td>\n",
       "      <td>84</td>\n",
       "    </tr>\n",
       "    <tr>\n",
       "      <th>14</th>\n",
       "      <td>Equatorial Guinea</td>\n",
       "      <td>80</td>\n",
       "      <td>98</td>\n",
       "    </tr>\n",
       "    <tr>\n",
       "      <th>15</th>\n",
       "      <td>Eritrea</td>\n",
       "      <td>46</td>\n",
       "      <td>87</td>\n",
       "    </tr>\n",
       "    <tr>\n",
       "      <th>16</th>\n",
       "      <td>Ethiopia</td>\n",
       "      <td>52</td>\n",
       "      <td>47</td>\n",
       "    </tr>\n",
       "    <tr>\n",
       "      <th>17</th>\n",
       "      <td>Gabon</td>\n",
       "      <td>49</td>\n",
       "      <td>97</td>\n",
       "    </tr>\n",
       "    <tr>\n",
       "      <th>18</th>\n",
       "      <td>Gambia</td>\n",
       "      <td>58</td>\n",
       "      <td>62</td>\n",
       "    </tr>\n",
       "    <tr>\n",
       "      <th>19</th>\n",
       "      <td>Ghana</td>\n",
       "      <td>52</td>\n",
       "      <td>80</td>\n",
       "    </tr>\n",
       "    <tr>\n",
       "      <th>20</th>\n",
       "      <td>Guinea</td>\n",
       "      <td>79</td>\n",
       "      <td>57</td>\n",
       "    </tr>\n",
       "    <tr>\n",
       "      <th>21</th>\n",
       "      <td>Guinea-Bissau</td>\n",
       "      <td>98</td>\n",
       "      <td>65</td>\n",
       "    </tr>\n",
       "    <tr>\n",
       "      <th>22</th>\n",
       "      <td>Kenya</td>\n",
       "      <td>48</td>\n",
       "      <td>94</td>\n",
       "    </tr>\n",
       "    <tr>\n",
       "      <th>23</th>\n",
       "      <td>Lesotho</td>\n",
       "      <td>63</td>\n",
       "      <td>98</td>\n",
       "    </tr>\n",
       "    <tr>\n",
       "      <th>24</th>\n",
       "      <td>Liberia</td>\n",
       "      <td>58</td>\n",
       "      <td>82</td>\n",
       "    </tr>\n",
       "    <tr>\n",
       "      <th>25</th>\n",
       "      <td>Libya</td>\n",
       "      <td>13</td>\n",
       "      <td>100</td>\n",
       "    </tr>\n",
       "    <tr>\n",
       "      <th>26</th>\n",
       "      <td>Madagascar</td>\n",
       "      <td>43</td>\n",
       "      <td>64</td>\n",
       "    </tr>\n",
       "    <tr>\n",
       "      <th>27</th>\n",
       "      <td>Malawi</td>\n",
       "      <td>53</td>\n",
       "      <td>87</td>\n",
       "    </tr>\n",
       "    <tr>\n",
       "      <th>28</th>\n",
       "      <td>Mali</td>\n",
       "      <td>98</td>\n",
       "      <td>34</td>\n",
       "    </tr>\n",
       "    <tr>\n",
       "      <th>29</th>\n",
       "      <td>Mauritania</td>\n",
       "      <td>76</td>\n",
       "      <td>65</td>\n",
       "    </tr>\n",
       "    <tr>\n",
       "      <th>30</th>\n",
       "      <td>Mauritius</td>\n",
       "      <td>13</td>\n",
       "      <td>98</td>\n",
       "    </tr>\n",
       "    <tr>\n",
       "      <th>31</th>\n",
       "      <td>Morocco</td>\n",
       "      <td>28</td>\n",
       "      <td>72</td>\n",
       "    </tr>\n",
       "    <tr>\n",
       "      <th>32</th>\n",
       "      <td>Mozambique</td>\n",
       "      <td>72</td>\n",
       "      <td>65</td>\n",
       "    </tr>\n",
       "    <tr>\n",
       "      <th>33</th>\n",
       "      <td>Namibia</td>\n",
       "      <td>30</td>\n",
       "      <td>95</td>\n",
       "    </tr>\n",
       "    <tr>\n",
       "      <th>34</th>\n",
       "      <td>Niger</td>\n",
       "      <td>66</td>\n",
       "      <td>23</td>\n",
       "    </tr>\n",
       "    <tr>\n",
       "      <th>35</th>\n",
       "      <td>Nigeria</td>\n",
       "      <td>78</td>\n",
       "      <td>66</td>\n",
       "    </tr>\n",
       "    <tr>\n",
       "      <th>36</th>\n",
       "      <td>Rwanda</td>\n",
       "      <td>38</td>\n",
       "      <td>78</td>\n",
       "    </tr>\n",
       "    <tr>\n",
       "      <th>37</th>\n",
       "      <td>Sao Tome and Principe</td>\n",
       "      <td>58</td>\n",
       "      <td>96</td>\n",
       "    </tr>\n",
       "    <tr>\n",
       "      <th>38</th>\n",
       "      <td>Senegal</td>\n",
       "      <td>47</td>\n",
       "      <td>56</td>\n",
       "    </tr>\n",
       "    <tr>\n",
       "      <th>39</th>\n",
       "      <td>Seychelles</td>\n",
       "      <td>12</td>\n",
       "      <td>99</td>\n",
       "    </tr>\n",
       "    <tr>\n",
       "      <th>40</th>\n",
       "      <td>Sierra Leone</td>\n",
       "      <td>119</td>\n",
       "      <td>50</td>\n",
       "    </tr>\n",
       "    <tr>\n",
       "      <th>41</th>\n",
       "      <td>South Africa</td>\n",
       "      <td>35</td>\n",
       "      <td>98</td>\n",
       "    </tr>\n",
       "    <tr>\n",
       "      <th>42</th>\n",
       "      <td>Swaziland</td>\n",
       "      <td>69</td>\n",
       "      <td>95</td>\n",
       "    </tr>\n",
       "    <tr>\n",
       "      <th>43</th>\n",
       "      <td>Togo</td>\n",
       "      <td>73</td>\n",
       "      <td>75</td>\n",
       "    </tr>\n",
       "    <tr>\n",
       "      <th>44</th>\n",
       "      <td>Tunisia</td>\n",
       "      <td>14</td>\n",
       "      <td>96</td>\n",
       "    </tr>\n",
       "    <tr>\n",
       "      <th>45</th>\n",
       "      <td>Uganda</td>\n",
       "      <td>58</td>\n",
       "      <td>85</td>\n",
       "    </tr>\n",
       "    <tr>\n",
       "      <th>46</th>\n",
       "      <td>Zambia</td>\n",
       "      <td>53</td>\n",
       "      <td>67</td>\n",
       "    </tr>\n",
       "  </tbody>\n",
       "</table>\n",
       "</div>"
      ],
      "text/plain": [
       "                     Country  IMR  Literacy\n",
       "0                    Algeria   26        89\n",
       "1                     Angola   96        66\n",
       "2                      Benin   68        45\n",
       "3                   Botswana   20        97\n",
       "4               Burkina Faso   82        33\n",
       "5                    Burundi   86        78\n",
       "6                   Cameroon   79        77\n",
       "7                 Cape Verde   18        99\n",
       "8   Central African Republic  108        58\n",
       "9                       Chad   97        41\n",
       "10                   Comoros   59        85\n",
       "11                     Congo   64        78\n",
       "12             Côte d'Ivoire   81        62\n",
       "13                     Egypt   18        84\n",
       "14         Equatorial Guinea   80        98\n",
       "15                   Eritrea   46        87\n",
       "16                  Ethiopia   52        47\n",
       "17                     Gabon   49        97\n",
       "18                    Gambia   58        62\n",
       "19                     Ghana   52        80\n",
       "20                    Guinea   79        57\n",
       "21             Guinea-Bissau   98        65\n",
       "22                     Kenya   48        94\n",
       "23                   Lesotho   63        98\n",
       "24                   Liberia   58        82\n",
       "25                     Libya   13       100\n",
       "26                Madagascar   43        64\n",
       "27                    Malawi   53        87\n",
       "28                      Mali   98        34\n",
       "29                Mauritania   76        65\n",
       "30                 Mauritius   13        98\n",
       "31                   Morocco   28        72\n",
       "32                Mozambique   72        65\n",
       "33                   Namibia   30        95\n",
       "34                     Niger   66        23\n",
       "35                   Nigeria   78        66\n",
       "36                    Rwanda   38        78\n",
       "37     Sao Tome and Principe   58        96\n",
       "38                   Senegal   47        56\n",
       "39                Seychelles   12        99\n",
       "40              Sierra Leone  119        50\n",
       "41              South Africa   35        98\n",
       "42                 Swaziland   69        95\n",
       "43                      Togo   73        75\n",
       "44                   Tunisia   14        96\n",
       "45                    Uganda   58        85\n",
       "46                    Zambia   53        67"
      ]
     },
     "execution_count": 21,
     "metadata": {},
     "output_type": "execute_result"
    }
   ],
   "source": [
    "africa"
   ]
  },
  {
   "cell_type": "code",
   "execution_count": 22,
   "id": "5ce49ea5",
   "metadata": {},
   "outputs": [
    {
     "data": {
      "text/plain": [
       "<AxesSubplot:xlabel='Literacy', ylabel='IMR'>"
      ]
     },
     "execution_count": 22,
     "metadata": {},
     "output_type": "execute_result"
    },
    {
     "data": {
      "image/png": "[encoded data removed]",
      "text/plain": [
       "<Figure size 576x576 with 1 Axes>"
      ]
     },
     "metadata": {},
     "output_type": "display_data"
    }
   ],
   "source": [
    "sns.scatterplot(data=africa, x=\"Literacy\", y=\"IMR\")"
   ]
  },
  {
   "cell_type": "code",
   "execution_count": 53,
   "id": "1954aa98",
   "metadata": {},
   "outputs": [
    {
     "data": {
      "text/plain": [
       "74.95744680851064"
      ]
     },
     "execution_count": 53,
     "metadata": {},
     "output_type": "execute_result"
    }
   ],
   "source": [
    "x_bar = np.mean( africa.Literacy )\n",
    "x_bar"
   ]
  },
  {
   "cell_type": "code",
   "execution_count": 54,
   "id": "6fe6f239",
   "metadata": {},
   "outputs": [
    {
     "data": {
      "text/plain": [
       "58.1063829787234"
      ]
     },
     "execution_count": 54,
     "metadata": {},
     "output_type": "execute_result"
    }
   ],
   "source": [
    "y_bar = np.mean( africa.IMR )\n",
    "y_bar"
   ]
  },
  {
   "cell_type": "code",
   "execution_count": 55,
   "id": "47db4475",
   "metadata": {},
   "outputs": [
    {
     "data": {
      "text/plain": [
       "<matplotlib.lines.Line2D at 0x7f84c98ccd30>"
      ]
     },
     "execution_count": 55,
     "metadata": {},
     "output_type": "execute_result"
    },
    {
     "data": {
      "image/png": "[encoded data removed]",
      "text/plain": [
       "<Figure size 576x576 with 1 Axes>"
      ]
     },
     "metadata": {},
     "output_type": "display_data"
    }
   ],
   "source": [
    "sns.scatterplot(data=africa, x=\"Literacy\", y=\"IMR\")\n",
    "plt.axvline( x_bar, linestyle='--', color=\"gray\")\n",
    "plt.axhline( y_bar, linestyle='--', color=\"gray\")"
   ]
  },
  {
   "cell_type": "code",
   "execution_count": 56,
   "id": "bcf6a9e6",
   "metadata": {},
   "outputs": [
    {
     "data": {
      "text/plain": [
       "-0.616221949960677"
      ]
     },
     "execution_count": 56,
     "metadata": {},
     "output_type": "execute_result"
    }
   ],
   "source": [
    "africa_r = africa.Literacy.corr( africa.IMR )\n",
    "africa_r"
   ]
  },
  {
   "cell_type": "code",
   "execution_count": 57,
   "id": "8b4e343e",
   "metadata": {},
   "outputs": [
    {
     "data": {
      "text/plain": [
       "<matplotlib.lines.Line2D at 0x7f84ca7552e0>"
      ]
     },
     "execution_count": 57,
     "metadata": {},
     "output_type": "execute_result"
    },
    {
     "data": {
      "image/png": "[encoded data removed]",
      "text/plain": [
       "<Figure size 576x576 with 1 Axes>"
      ]
     },
     "metadata": {},
     "output_type": "display_data"
    }
   ],
   "source": [
    "sns.scatterplot(data=africa, x=\"Literacy\", y=\"IMR\")\n",
    "# null model:\n",
    "plt.axhline( y_bar, color=\"black\")"
   ]
  },
  {
   "cell_type": "code",
   "execution_count": 58,
   "id": "38f4b417",
   "metadata": {},
   "outputs": [
    {
     "data": {
      "text/plain": [
       "34308.46808510638"
      ]
     },
     "execution_count": 58,
     "metadata": {},
     "output_type": "execute_result"
    }
   ],
   "source": [
    "africa_tss = np.sum( np.square(africa.IMR - y_bar) )\n",
    "africa_tss"
   ]
  },
  {
   "cell_type": "code",
   "execution_count": 63,
   "id": "1a922b98",
   "metadata": {},
   "outputs": [
    {
     "data": {
      "text/plain": [
       "745.836262719704"
      ]
     },
     "execution_count": 63,
     "metadata": {},
     "output_type": "execute_result"
    }
   ],
   "source": [
    "africa.IMR.var()"
   ]
  },
  {
   "cell_type": "code",
   "execution_count": 64,
   "id": "f12e71bc",
   "metadata": {},
   "outputs": [
    {
     "data": {
      "text/plain": [
       "34308.46808510638"
      ]
     },
     "execution_count": 64,
     "metadata": {},
     "output_type": "execute_result"
    }
   ],
   "source": [
    "(n_countries - 1)*africa.IMR.var()"
   ]
  },
  {
   "cell_type": "code",
   "execution_count": 65,
   "id": "1c8f4e8a",
   "metadata": {},
   "outputs": [
    {
     "data": {
      "text/plain": [
       "20.512941245879194"
      ]
     },
     "execution_count": 65,
     "metadata": {},
     "output_type": "execute_result"
    }
   ],
   "source": [
    "s_x = africa.Literacy.std()\n",
    "s_x"
   ]
  },
  {
   "cell_type": "code",
   "execution_count": 66,
   "id": "3d54f5f6",
   "metadata": {},
   "outputs": [
    {
     "data": {
      "text/plain": [
       "27.31000297912294"
      ]
     },
     "execution_count": 66,
     "metadata": {},
     "output_type": "execute_result"
    }
   ],
   "source": [
    "s_y = africa.IMR.std()\n",
    "s_y"
   ]
  },
  {
   "cell_type": "code",
   "execution_count": 49,
   "id": "75593db9",
   "metadata": {},
   "outputs": [
    {
     "data": {
      "text/plain": [
       "Text(0.5, 1.0, 'SD line')"
      ]
     },
     "execution_count": 49,
     "metadata": {},
     "output_type": "execute_result"
    },
    {
     "data": {
      "image/png": "[encoded data removed]",
      "text/plain": [
       "<Figure size 576x576 with 1 Axes>"
      ]
     },
     "metadata": {},
     "output_type": "display_data"
    }
   ],
   "source": [
    "sns.scatterplot(data=africa, x=\"Literacy\", y=\"IMR\")\n",
    "# SD line\n",
    "plt.axline( (x_bar,y_bar), slope = -s_y / s_x, linestyle='--', color=\"gray\")\n",
    "plt.title(\"SD line\")"
   ]
  },
  {
   "cell_type": "code",
   "execution_count": 67,
   "id": "8d91ec9d",
   "metadata": {},
   "outputs": [
    {
     "data": {
      "text/plain": [
       "-0.8204100566323119"
      ]
     },
     "execution_count": 67,
     "metadata": {},
     "output_type": "execute_result"
    }
   ],
   "source": [
    "m = africa_r*(s_y/s_x)\n",
    "m"
   ]
  },
  {
   "cell_type": "code",
   "execution_count": 68,
   "id": "a0158541",
   "metadata": {},
   "outputs": [
    {
     "data": {
      "text/plain": [
       "119.60222615990713"
      ]
     },
     "execution_count": 68,
     "metadata": {},
     "output_type": "execute_result"
    }
   ],
   "source": [
    "b = y_bar - m*x_bar\n",
    "b"
   ]
  },
  {
   "cell_type": "code",
   "execution_count": 69,
   "id": "37916aa7",
   "metadata": {},
   "outputs": [
    {
     "data": {
      "text/plain": [
       "Text(0.5, 1.0, 'Line of best fit')"
      ]
     },
     "execution_count": 69,
     "metadata": {},
     "output_type": "execute_result"
    },
    {
     "data": {
      "image/png": "[encoded data removed]",
      "text/plain": [
       "<Figure size 576x576 with 1 Axes>"
      ]
     },
     "metadata": {},
     "output_type": "display_data"
    }
   ],
   "source": [
    "sns.scatterplot(data=africa, x=\"Literacy\", y=\"IMR\")\n",
    "# SD line\n",
    "plt.axline( (0,b), slope = m, linestyle='--', color=\"gray\")\n",
    "plt.title(\"Line of best fit\")"
   ]
  },
  {
   "cell_type": "code",
   "execution_count": 70,
   "id": "d228f105",
   "metadata": {},
   "outputs": [],
   "source": [
    "africa_model = smf.ols('IMR ~ Literacy', data = africa)"
   ]
  },
  {
   "cell_type": "code",
   "execution_count": 71,
   "id": "e29457ec",
   "metadata": {},
   "outputs": [],
   "source": [
    "africa_fit = africa_model.fit()"
   ]
  },
  {
   "cell_type": "code",
   "execution_count": 72,
   "id": "fbb0b04b",
   "metadata": {},
   "outputs": [
    {
     "name": "stdout",
     "output_type": "stream",
     "text": [
      "                            OLS Regression Results                            \n",
      "==============================================================================\n",
      "Dep. Variable:                    IMR   R-squared:                       0.380\n",
      "Model:                            OLS   Adj. R-squared:                  0.366\n",
      "Method:                 Least Squares   F-statistic:                     27.55\n",
      "Date:                Mon, 21 Jun 2021   Prob (F-statistic):           4.00e-06\n",
      "Time:                        17:24:35   Log-Likelihood:                -210.40\n",
      "No. Observations:                  47   AIC:                             424.8\n",
      "Df Residuals:                      45   BIC:                             428.5\n",
      "Df Model:                           1                                         \n",
      "Covariance Type:            nonrobust                                         \n",
      "==============================================================================\n",
      "                 coef    std err          t      P>|t|      [0.025      0.975]\n",
      "------------------------------------------------------------------------------\n",
      "Intercept    119.6022     12.138      9.853      0.000      95.155     144.050\n",
      "Literacy      -0.8204      0.156     -5.249      0.000      -1.135      -0.506\n",
      "==============================================================================\n",
      "Omnibus:                        5.446   Durbin-Watson:                   2.292\n",
      "Prob(Omnibus):                  0.066   Jarque-Bera (JB):                2.158\n",
      "Skew:                           0.119   Prob(JB):                        0.340\n",
      "Kurtosis:                       1.978   Cond. No.                         297.\n",
      "==============================================================================\n",
      "\n",
      "Notes:\n",
      "[1] Standard Errors assume that the covariance matrix of the errors is correctly specified.\n"
     ]
    }
   ],
   "source": [
    "print( africa_fit.summary() )"
   ]
  },
  {
   "cell_type": "code",
   "execution_count": 75,
   "id": "94a3ce2d",
   "metadata": {},
   "outputs": [
    {
     "data": {
      "text/plain": [
       "21280.530941116467"
      ]
     },
     "execution_count": 75,
     "metadata": {},
     "output_type": "execute_result"
    }
   ],
   "source": [
    "africa_rss = np.sum( np.square( africa_fit.resid ) )\n",
    "africa_rss"
   ]
  },
  {
   "cell_type": "code",
   "execution_count": 78,
   "id": "227b8400",
   "metadata": {},
   "outputs": [
    {
     "data": {
      "text/plain": [
       "745.836262719704"
      ]
     },
     "execution_count": 78,
     "metadata": {},
     "output_type": "execute_result"
    }
   ],
   "source": [
    "africa_fit.mse_total"
   ]
  },
  {
   "cell_type": "code",
   "execution_count": 84,
   "id": "3dfe11a5",
   "metadata": {},
   "outputs": [
    {
     "data": {
      "text/plain": [
       "27.31000297912294"
      ]
     },
     "execution_count": 84,
     "metadata": {},
     "output_type": "execute_result"
    }
   ],
   "source": [
    "# estimate of sigma\n",
    "np.sqrt( africa_fit.mse_total )"
   ]
  },
  {
   "cell_type": "code",
   "execution_count": 83,
   "id": "453d44e5",
   "metadata": {},
   "outputs": [
    {
     "data": {
      "text/plain": [
       "21280.530941116467"
      ]
     },
     "execution_count": 83,
     "metadata": {},
     "output_type": "execute_result"
    }
   ],
   "source": [
    "africa_fit.ssr"
   ]
  },
  {
   "cell_type": "code",
   "execution_count": null,
   "id": "08f39f0d",
   "metadata": {},
   "outputs": [],
   "source": []
  },
  {
   "cell_type": "code",
   "execution_count": null,
   "id": "3574a916",
   "metadata": {},
   "outputs": [],
   "source": []
  }
 ],
 "metadata": {
  "kernelspec": {
   "display_name": "Python 3",
   "language": "python",
   "name": "python3"
  },
  "language_info": {
   "codemirror_mode": {
    "name": "ipython",
    "version": 3
   },
   "file_extension": ".py",
   "mimetype": "text/x-python",
   "name": "python",
   "nbconvert_exporter": "python",
   "pygments_lexer": "ipython3",
   "version": "3.8.10"
  }
 },
 "nbformat": 4,
 "nbformat_minor": 5
}
